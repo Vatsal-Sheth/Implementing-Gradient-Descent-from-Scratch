{
  "nbformat": 4,
  "nbformat_minor": 0,
  "metadata": {
    "colab": {
      "name": "C052 Lab05(ML).ipynb",
      "provenance": [],
      "collapsed_sections": []
    },
    "kernelspec": {
      "name": "python3",
      "display_name": "Python 3"
    }
  },
  "cells": [
    {
      "cell_type": "code",
      "metadata": {
        "id": "nqbydGBWt2SC"
      },
      "source": [
        ""
      ],
      "execution_count": null,
      "outputs": []
    },
    {
      "cell_type": "markdown",
      "metadata": {
        "id": "dGFOFZB9t4dH"
      },
      "source": [
        "Developing a gradient descent algorithm for liner regression model"
      ]
    },
    {
      "cell_type": "code",
      "metadata": {
        "id": "kPeKQPXZuBDk"
      },
      "source": [
        "import pandas as pd\n",
        "import numpy as np\n",
        "\n",
        "import warnings\n",
        "warnings.filterwarnings('ignore')\n"
      ],
      "execution_count": null,
      "outputs": []
    },
    {
      "cell_type": "markdown",
      "metadata": {
        "id": "CLY21-Xt8RQm"
      },
      "source": [
        "Loading the dataset"
      ]
    },
    {
      "cell_type": "code",
      "metadata": {
        "id": "AV2anXG8uZK9"
      },
      "source": [
        "df=pd.read_csv('Advertising.csv')"
      ],
      "execution_count": null,
      "outputs": []
    },
    {
      "cell_type": "code",
      "metadata": {
        "id": "6gLhXsROuowl",
        "outputId": "834065d9-2a77-4c6b-b72e-e7decd065570",
        "colab": {
          "base_uri": "https://localhost:8080/",
          "height": 195
        }
      },
      "source": [
        "df.head()"
      ],
      "execution_count": null,
      "outputs": [
        {
          "output_type": "execute_result",
          "data": {
            "text/html": [
              "<div>\n",
              "<style scoped>\n",
              "    .dataframe tbody tr th:only-of-type {\n",
              "        vertical-align: middle;\n",
              "    }\n",
              "\n",
              "    .dataframe tbody tr th {\n",
              "        vertical-align: top;\n",
              "    }\n",
              "\n",
              "    .dataframe thead th {\n",
              "        text-align: right;\n",
              "    }\n",
              "</style>\n",
              "<table border=\"1\" class=\"dataframe\">\n",
              "  <thead>\n",
              "    <tr style=\"text-align: right;\">\n",
              "      <th></th>\n",
              "      <th>Unnamed: 0</th>\n",
              "      <th>TV</th>\n",
              "      <th>Radio</th>\n",
              "      <th>Newspaper</th>\n",
              "      <th>Sales</th>\n",
              "    </tr>\n",
              "  </thead>\n",
              "  <tbody>\n",
              "    <tr>\n",
              "      <th>0</th>\n",
              "      <td>1</td>\n",
              "      <td>230.1</td>\n",
              "      <td>37.8</td>\n",
              "      <td>69.2</td>\n",
              "      <td>22.1</td>\n",
              "    </tr>\n",
              "    <tr>\n",
              "      <th>1</th>\n",
              "      <td>2</td>\n",
              "      <td>44.5</td>\n",
              "      <td>39.3</td>\n",
              "      <td>45.1</td>\n",
              "      <td>10.4</td>\n",
              "    </tr>\n",
              "    <tr>\n",
              "      <th>2</th>\n",
              "      <td>3</td>\n",
              "      <td>17.2</td>\n",
              "      <td>45.9</td>\n",
              "      <td>69.3</td>\n",
              "      <td>9.3</td>\n",
              "    </tr>\n",
              "    <tr>\n",
              "      <th>3</th>\n",
              "      <td>4</td>\n",
              "      <td>151.5</td>\n",
              "      <td>41.3</td>\n",
              "      <td>58.5</td>\n",
              "      <td>18.5</td>\n",
              "    </tr>\n",
              "    <tr>\n",
              "      <th>4</th>\n",
              "      <td>5</td>\n",
              "      <td>180.8</td>\n",
              "      <td>10.8</td>\n",
              "      <td>58.4</td>\n",
              "      <td>12.9</td>\n",
              "    </tr>\n",
              "  </tbody>\n",
              "</table>\n",
              "</div>"
            ],
            "text/plain": [
              "   Unnamed: 0     TV  Radio  Newspaper  Sales\n",
              "0           1  230.1   37.8       69.2   22.1\n",
              "1           2   44.5   39.3       45.1   10.4\n",
              "2           3   17.2   45.9       69.3    9.3\n",
              "3           4  151.5   41.3       58.5   18.5\n",
              "4           5  180.8   10.8       58.4   12.9"
            ]
          },
          "metadata": {
            "tags": []
          },
          "execution_count": 5
        }
      ]
    },
    {
      "cell_type": "code",
      "metadata": {
        "id": "GgnHV1IZ8bJA"
      },
      "source": [
        ""
      ],
      "execution_count": null,
      "outputs": []
    },
    {
      "cell_type": "markdown",
      "metadata": {
        "id": "Ae-pbOsv8bra"
      },
      "source": [
        "Setting the X and Y Variables"
      ]
    },
    {
      "cell_type": "code",
      "metadata": {
        "id": "Pdrfy2VzusOe"
      },
      "source": [
        "X=df[['TV','Radio','Newspaper']]\n",
        "Y=df['Sales']"
      ],
      "execution_count": null,
      "outputs": []
    },
    {
      "cell_type": "code",
      "metadata": {
        "id": "7tEIirRtyhHs",
        "outputId": "334b27dd-acd7-4b44-840c-f8bed0400fd2",
        "colab": {
          "base_uri": "https://localhost:8080/",
          "height": 34
        }
      },
      "source": [
        "X.shape\n",
        "Y.shape"
      ],
      "execution_count": null,
      "outputs": [
        {
          "output_type": "execute_result",
          "data": {
            "text/plain": [
              "(200,)"
            ]
          },
          "metadata": {
            "tags": []
          },
          "execution_count": 7
        }
      ]
    },
    {
      "cell_type": "markdown",
      "metadata": {
        "id": "_BLwUOAf8lZ6"
      },
      "source": [
        "Standarizing X and Y"
      ]
    },
    {
      "cell_type": "code",
      "metadata": {
        "id": "ti-9iwqKvQOn"
      },
      "source": [
        "Y=np.array((Y-Y.mean())/Y.std())\n",
        "X=X.apply(lambda rec:(rec-rec.mean())/rec.std(),axis=0)"
      ],
      "execution_count": null,
      "outputs": []
    },
    {
      "cell_type": "markdown",
      "metadata": {
        "id": "mAu8KNyU80ph"
      },
      "source": [
        "Implementing Gradient Descent Algorithm\n",
        "\n",
        "\n",
        "1.   Randomly initialize the bias and the weight theta\n",
        "2.   Calculate predicted value of y that is Y given the bias and the weight\n",
        "3.   Calculate the cost function from predicted and actual values of Y\n",
        "4.   Calculate gradient and the weights\n",
        "\n"
      ]
    },
    {
      "cell_type": "markdown",
      "metadata": {
        "id": "qCDIvznv9sqn"
      },
      "source": [
        "Random Initialization of bias and weights"
      ]
    },
    {
      "cell_type": "code",
      "metadata": {
        "id": "LiligOauvucH"
      },
      "source": [
        "import random\n",
        "def initialize(dim):\n",
        "  #np.random.seed(seed=42)\n",
        "  #random.seed(42)\n",
        "  b=random.random()\n",
        "  theta=np.random.rand(dim)\n",
        "  return b,theta"
      ],
      "execution_count": null,
      "outputs": []
    },
    {
      "cell_type": "code",
      "metadata": {
        "id": "YcVG6wYQwhzt",
        "outputId": "3ec61286-759d-41ad-9c4c-014939e250bb",
        "colab": {
          "base_uri": "https://localhost:8080/",
          "height": 34
        }
      },
      "source": [
        "b,theta=initialize(3)\n",
        "print(\"Bias: \",b,\"Weights: \",theta)"
      ],
      "execution_count": null,
      "outputs": [
        {
          "output_type": "stream",
          "text": [
            "Bias:  0.4439513186463464 Weights:  [0.92396489 0.05155633 0.06354297]\n"
          ],
          "name": "stdout"
        }
      ]
    },
    {
      "cell_type": "markdown",
      "metadata": {
        "id": "BqHD-4JF90JE"
      },
      "source": [
        "Predict Y Values from bias and Weights"
      ]
    },
    {
      "cell_type": "code",
      "metadata": {
        "id": "woHOvphCwyLE"
      },
      "source": [
        "def predict_Y(b,theta,X):\n",
        "  return b + np.dot(X,theta)"
      ],
      "execution_count": null,
      "outputs": []
    },
    {
      "cell_type": "code",
      "metadata": {
        "id": "R7FUyl1axEHj"
      },
      "source": [
        "b,theta=initialize(3)\n",
        "Y_hat=predict_Y(b,theta,X)"
      ],
      "execution_count": null,
      "outputs": []
    },
    {
      "cell_type": "code",
      "metadata": {
        "id": "rPMTHVdExe5W",
        "outputId": "5fefa5e2-e2ee-4e41-9a33-1759b002d1f3",
        "colab": {
          "base_uri": "https://localhost:8080/",
          "height": 50
        }
      },
      "source": [
        "Y_hat[0:10]"
      ],
      "execution_count": null,
      "outputs": [
        {
          "output_type": "execute_result",
          "data": {
            "text/plain": [
              "array([ 3.53610908,  0.53826004,  1.4045012 ,  2.27511933,  2.25046604,\n",
              "        1.6023777 , -0.36009639, -0.37804669, -2.20360351,  0.69993066])"
            ]
          },
          "metadata": {
            "tags": []
          },
          "execution_count": 13
        }
      ]
    },
    {
      "cell_type": "markdown",
      "metadata": {
        "id": "BLe0nrr9-Kp6"
      },
      "source": [
        "Calculate the cost function- MSE"
      ]
    },
    {
      "cell_type": "code",
      "metadata": {
        "id": "H-NVS_EazHKE"
      },
      "source": [
        "import math\n",
        "def get_cost(Y,Y_hat):\n",
        "  Y_resd=Y-Y_hat\n",
        "  return np.sum(np.dot(Y_resd.T,Y_resd))/len(Y-Y_resd)"
      ],
      "execution_count": null,
      "outputs": []
    },
    {
      "cell_type": "code",
      "metadata": {
        "id": "xpx5us4H31_K",
        "outputId": "75b7dc8d-57a1-4113-8091-fa0c639ec961",
        "colab": {
          "base_uri": "https://localhost:8080/",
          "height": 34
        }
      },
      "source": [
        "b,theta=initialize(3)\n",
        "Y_hat=predict_Y(b,theta,X)\n",
        "get_cost(Y,Y_hat)"
      ],
      "execution_count": null,
      "outputs": [
        {
          "output_type": "execute_result",
          "data": {
            "text/plain": [
              "0.5253558445651124"
            ]
          },
          "metadata": {
            "tags": []
          },
          "execution_count": 15
        }
      ]
    },
    {
      "cell_type": "markdown",
      "metadata": {
        "id": "4xiKg1RA-S0m"
      },
      "source": [
        "Update bias and weights\n",
        "\n",
        "The parameters passed to the function are\n",
        "\n",
        "\n",
        "1.   x,y : the input and output variable\n",
        "2.   y_hat: predicted value with current bias and weights\n",
        "3.   b_0,theta_0: current bias and weights\n",
        "4.   Learning rate: learning rate to adjust the update step\n",
        "\n"
      ]
    },
    {
      "cell_type": "code",
      "metadata": {
        "id": "DJwfixxK4IVU"
      },
      "source": [
        "def update_theta(x,y,y_hat,b_0,theta_o,learning_rate):\n",
        "  db=(np.sum(y_hat-y)*2)/len(y)\n",
        "  dw=(np.dot((y_hat-y),x)*2)/len(y)\n",
        "  b_1=b_0-learning_rate*db\n",
        "  theta_1=theta_o-learning_rate*dw\n",
        "  return b_1,theta_1"
      ],
      "execution_count": null,
      "outputs": []
    },
    {
      "cell_type": "code",
      "metadata": {
        "id": "PqBywnqt5eqx",
        "outputId": "81ee617e-8730-4379-9af6-43c748af4c94",
        "colab": {
          "base_uri": "https://localhost:8080/",
          "height": 67
        }
      },
      "source": [
        "b,theta=initialize(3)\n",
        "print(\"After initialization -Bias: \",b,\"theta: \",theta)\n",
        "Y_hat=predict_Y(b,theta,X)\n",
        "b,theta=update_theta(X,Y,Y_hat,b,theta,0.01)\n",
        "print(\"After first update -Bias: \",b,\"theta: \",theta)\n",
        "#get_cost(Y,Y_hat)"
      ],
      "execution_count": null,
      "outputs": [
        {
          "output_type": "stream",
          "text": [
            "After initialization -Bias:  0.4733071000028529 theta:  [0.56745402 0.43024717 0.0722811 ]\n",
            "After first update -Bias:  0.46384095800279584 theta:  [0.57117721 0.43202382 0.07171437]\n"
          ],
          "name": "stdout"
        },
        {
          "output_type": "execute_result",
          "data": {
            "text/plain": [
              "0.37245638135702513"
            ]
          },
          "metadata": {
            "tags": []
          },
          "execution_count": 18
        }
      ]
    },
    {
      "cell_type": "markdown",
      "metadata": {
        "id": "Fi0q928R-8Nd"
      },
      "source": [
        "Finding the optimal Bias and Weights"
      ]
    },
    {
      "cell_type": "code",
      "metadata": {
        "id": "RL--_a0NtW19"
      },
      "source": [
        "def run_gradient_descent(X,\n",
        "                         Y,\n",
        "                         alpha=0.01,\n",
        "                         num_iterations=100):\n",
        "  b,theta=initialize(X.shape[1])\n",
        "  iter_num=0\n",
        "  gd_iterations_df=pd.DataFrame(columns=['iteration','cost'])\n",
        "  result_idx=0\n",
        "\n",
        "  for each_iter in range(num_iterations):\n",
        "    Y_hat=predict_Y(b,theta,X)\n",
        "    this_cost=get_cost(Y,Y_hat)\n",
        "    prev_b=b\n",
        "    prev_theta=theta\n",
        "    b,theta=update_theta(X,Y,Y_hat,prev_b,prev_theta,alpha)\n",
        "\n",
        "    if(iter_num%10==0):\n",
        "      gd_iterations_df.loc[result_idx]=[iter_num,this_cost]\n",
        "      result_idx=result_idx+1\n",
        "    iter_num +=1\n",
        "  print(\"Final Estimate of b and theta : \",b,theta)\n",
        "\n",
        "  return gd_iterations_df,b,theta\n",
        "\n"
      ],
      "execution_count": null,
      "outputs": []
    },
    {
      "cell_type": "code",
      "metadata": {
        "id": "ZmG69lcb57Gh",
        "outputId": "238d230a-35dc-43fe-ae9f-51e59a359670",
        "colab": {
          "base_uri": "https://localhost:8080/",
          "height": 34
        }
      },
      "source": [
        "gd_iterations_df,b,theta=run_gradient_descent(X,Y,alpha=0.001,num_iterations=200)"
      ],
      "execution_count": null,
      "outputs": [
        {
          "output_type": "stream",
          "text": [
            "Final Estimate of b and theta :  0.31516040347417285 [0.39731522 0.31571747 0.61334115]\n"
          ],
          "name": "stdout"
        }
      ]
    },
    {
      "cell_type": "code",
      "metadata": {
        "id": "KMSisGRm6Tj3",
        "outputId": "4420bc92-b59a-46d9-9bbb-ad748a37199f",
        "colab": {
          "base_uri": "https://localhost:8080/",
          "height": 343
        }
      },
      "source": [
        "gd_iterations_df[0:10]"
      ],
      "execution_count": null,
      "outputs": [
        {
          "output_type": "execute_result",
          "data": {
            "text/html": [
              "<div>\n",
              "<style scoped>\n",
              "    .dataframe tbody tr th:only-of-type {\n",
              "        vertical-align: middle;\n",
              "    }\n",
              "\n",
              "    .dataframe tbody tr th {\n",
              "        vertical-align: top;\n",
              "    }\n",
              "\n",
              "    .dataframe thead th {\n",
              "        text-align: right;\n",
              "    }\n",
              "</style>\n",
              "<table border=\"1\" class=\"dataframe\">\n",
              "  <thead>\n",
              "    <tr style=\"text-align: right;\">\n",
              "      <th></th>\n",
              "      <th>iteration</th>\n",
              "      <th>cost</th>\n",
              "    </tr>\n",
              "  </thead>\n",
              "  <tbody>\n",
              "    <tr>\n",
              "      <th>0</th>\n",
              "      <td>0.0</td>\n",
              "      <td>1.216903</td>\n",
              "    </tr>\n",
              "    <tr>\n",
              "      <th>1</th>\n",
              "      <td>10.0</td>\n",
              "      <td>1.176424</td>\n",
              "    </tr>\n",
              "    <tr>\n",
              "      <th>2</th>\n",
              "      <td>20.0</td>\n",
              "      <td>1.137510</td>\n",
              "    </tr>\n",
              "    <tr>\n",
              "      <th>3</th>\n",
              "      <td>30.0</td>\n",
              "      <td>1.100098</td>\n",
              "    </tr>\n",
              "    <tr>\n",
              "      <th>4</th>\n",
              "      <td>40.0</td>\n",
              "      <td>1.064126</td>\n",
              "    </tr>\n",
              "    <tr>\n",
              "      <th>5</th>\n",
              "      <td>50.0</td>\n",
              "      <td>1.029535</td>\n",
              "    </tr>\n",
              "    <tr>\n",
              "      <th>6</th>\n",
              "      <td>60.0</td>\n",
              "      <td>0.996269</td>\n",
              "    </tr>\n",
              "    <tr>\n",
              "      <th>7</th>\n",
              "      <td>70.0</td>\n",
              "      <td>0.964275</td>\n",
              "    </tr>\n",
              "    <tr>\n",
              "      <th>8</th>\n",
              "      <td>80.0</td>\n",
              "      <td>0.933500</td>\n",
              "    </tr>\n",
              "    <tr>\n",
              "      <th>9</th>\n",
              "      <td>90.0</td>\n",
              "      <td>0.903896</td>\n",
              "    </tr>\n",
              "  </tbody>\n",
              "</table>\n",
              "</div>"
            ],
            "text/plain": [
              "   iteration      cost\n",
              "0        0.0  1.216903\n",
              "1       10.0  1.176424\n",
              "2       20.0  1.137510\n",
              "3       30.0  1.100098\n",
              "4       40.0  1.064126\n",
              "5       50.0  1.029535\n",
              "6       60.0  0.996269\n",
              "7       70.0  0.964275\n",
              "8       80.0  0.933500\n",
              "9       90.0  0.903896"
            ]
          },
          "metadata": {
            "tags": []
          },
          "execution_count": 21
        }
      ]
    },
    {
      "cell_type": "markdown",
      "metadata": {
        "id": "EfUqXgFI_G-5"
      },
      "source": [
        "Plotting the cost function against the iterations"
      ]
    },
    {
      "cell_type": "code",
      "metadata": {
        "id": "mqWA4RdX6bsp",
        "outputId": "9ac9cf9c-e97b-4d6f-92e7-1312c0ac4be0",
        "colab": {
          "base_uri": "https://localhost:8080/",
          "height": 296
        }
      },
      "source": [
        "import matplotlib.pyplot as plt\n",
        "import seaborn as sn\n",
        "%matplotlib inline\n",
        "plt.plot(gd_iterations_df['iteration'],gd_iterations_df['cost'])\n",
        "plt.xlabel(\"Number of iterations\")\n",
        "plt.ylabel(\"Cost or MSE\")"
      ],
      "execution_count": null,
      "outputs": [
        {
          "output_type": "execute_result",
          "data": {
            "text/plain": [
              "Text(0, 0.5, 'Cost or MSE')"
            ]
          },
          "metadata": {
            "tags": []
          },
          "execution_count": 22
        },
        {
          "output_type": "display_data",
          "data": {
            "image/png": "[encoded data removed]",
            "text/plain": [
              "<Figure size 432x288 with 1 Axes>"
            ]
          },
          "metadata": {
            "tags": [],
            "needs_background": "light"
          }
        }
      ]
    },
    {
      "cell_type": "code",
      "metadata": {
        "id": "oXV8YgTW7CFW",
        "outputId": "9b976512-223f-45f3-afd6-13178fcc75a0",
        "colab": {
          "base_uri": "https://localhost:8080/",
          "height": 34
        }
      },
      "source": [
        "alpha_df_1,b,theta=run_gradient_descent(X,Y,alpha=0.01,num_iterations=2000)\n"
      ],
      "execution_count": null,
      "outputs": [
        {
          "output_type": "stream",
          "text": [
            "Final Estimate of b and theta :  2.778981040403135e-16 [ 0.75306591  0.53648155 -0.00433069]\n"
          ],
          "name": "stdout"
        }
      ]
    },
    {
      "cell_type": "code",
      "metadata": {
        "id": "a3Zd4SFj7kVJ",
        "outputId": "8a2a5608-7f5d-4d41-d2e3-1df2ac652866",
        "colab": {
          "base_uri": "https://localhost:8080/",
          "height": 34
        }
      },
      "source": [
        "alpha_df_2,b,theta=run_gradient_descent(X,Y,alpha=0.001,num_iterations=2000)"
      ],
      "execution_count": null,
      "outputs": [
        {
          "output_type": "stream",
          "text": [
            "Final Estimate of b and theta :  0.012981420713692326 [ 0.74510489  0.53860236 -0.00363767]\n"
          ],
          "name": "stdout"
        }
      ]
    },
    {
      "cell_type": "code",
      "metadata": {
        "id": "KqGc7ruv7qW1",
        "outputId": "6926a775-352b-487d-db90-b1006a7502fa",
        "colab": {
          "base_uri": "https://localhost:8080/",
          "height": 312
        }
      },
      "source": [
        "plt.plot(alpha_df_1['iteration'],alpha_df_1['cost'],label=\"alpha=0.01\")\n",
        "plt.plot(alpha_df_2['iteration'],alpha_df_2['cost'],label=\"alpha=0.001\")\n",
        "plt.legend()\n",
        "plt.ylabel('cost')\n",
        "plt.xlabel('Number of iterations')\n",
        "plt.title('Cost Vs. Iterations for different alpha values')"
      ],
      "execution_count": null,
      "outputs": [
        {
          "output_type": "execute_result",
          "data": {
            "text/plain": [
              "Text(0.5, 1.0, 'Cost Vs. Iterations for different alpha values')"
            ]
          },
          "metadata": {
            "tags": []
          },
          "execution_count": 27
        },
        {
          "output_type": "display_data",
          "data": {
            "image/png": "[encoded data removed]",
            "text/plain": [
              "<Figure size 432x288 with 1 Axes>"
            ]
          },
          "metadata": {
            "tags": [],
            "needs_background": "light"
          }
        }
      ]
    },
    {
      "cell_type": "markdown",
      "metadata": {
        "id": "2RxH0cp__tSs"
      },
      "source": [
        " 0.01 is the optimum value as it takes less iterations to converge. 0.001 takes around a 1000 iterations to converge the cost value."
      ]
    },
    {
      "cell_type": "code",
      "metadata": {
        "id": "XwYCFVxngBuA"
      },
      "source": [
        ""
      ],
      "execution_count": null,
      "outputs": []
    },
    {
      "cell_type": "markdown",
      "metadata": {
        "id": "26RReSSggCWT"
      },
      "source": [
        "Developing a gradient descent algorithm for liner regression model"
      ]
    },
    {
      "cell_type": "code",
      "metadata": {
        "id": "N74UKO7PgCWT"
      },
      "source": [
        "import pandas as pd\n",
        "import numpy as np\n",
        "\n",
        "import warnings\n",
        "warnings.filterwarnings('ignore')\n"
      ],
      "execution_count": null,
      "outputs": []
    },
    {
      "cell_type": "markdown",
      "metadata": {
        "id": "RHpZGQr7gCWU"
      },
      "source": [
        "Loading the dataset"
      ]
    },
    {
      "cell_type": "code",
      "metadata": {
        "id": "ykhw8-j4gCWU"
      },
      "source": [
        "df=pd.read_csv('drinks.csv')"
      ],
      "execution_count": null,
      "outputs": []
    },
    {
      "cell_type": "code",
      "metadata": {
        "id": "qy2X0r7jgCWV",
        "outputId": "a40c4f0f-31e6-49fb-eb88-2589da168eb6",
        "colab": {
          "base_uri": "https://localhost:8080/",
          "height": 204
        }
      },
      "source": [
        "df.head()"
      ],
      "execution_count": null,
      "outputs": [
        {
          "output_type": "execute_result",
          "data": {
            "text/html": [
              "<div>\n",
              "<style scoped>\n",
              "    .dataframe tbody tr th:only-of-type {\n",
              "        vertical-align: middle;\n",
              "    }\n",
              "\n",
              "    .dataframe tbody tr th {\n",
              "        vertical-align: top;\n",
              "    }\n",
              "\n",
              "    .dataframe thead th {\n",
              "        text-align: right;\n",
              "    }\n",
              "</style>\n",
              "<table border=\"1\" class=\"dataframe\">\n",
              "  <thead>\n",
              "    <tr style=\"text-align: right;\">\n",
              "      <th></th>\n",
              "      <th>country</th>\n",
              "      <th>beer_servings</th>\n",
              "      <th>spirit_servings</th>\n",
              "      <th>wine_servings</th>\n",
              "      <th>total_litres_of_pure_alcohol</th>\n",
              "      <th>continent</th>\n",
              "    </tr>\n",
              "  </thead>\n",
              "  <tbody>\n",
              "    <tr>\n",
              "      <th>0</th>\n",
              "      <td>Afghanistan</td>\n",
              "      <td>0</td>\n",
              "      <td>0</td>\n",
              "      <td>0</td>\n",
              "      <td>0.0</td>\n",
              "      <td>AS</td>\n",
              "    </tr>\n",
              "    <tr>\n",
              "      <th>1</th>\n",
              "      <td>Albania</td>\n",
              "      <td>89</td>\n",
              "      <td>132</td>\n",
              "      <td>54</td>\n",
              "      <td>4.9</td>\n",
              "      <td>EU</td>\n",
              "    </tr>\n",
              "    <tr>\n",
              "      <th>2</th>\n",
              "      <td>Algeria</td>\n",
              "      <td>25</td>\n",
              "      <td>0</td>\n",
              "      <td>14</td>\n",
              "      <td>0.7</td>\n",
              "      <td>AF</td>\n",
              "    </tr>\n",
              "    <tr>\n",
              "      <th>3</th>\n",
              "      <td>Andorra</td>\n",
              "      <td>245</td>\n",
              "      <td>138</td>\n",
              "      <td>312</td>\n",
              "      <td>12.4</td>\n",
              "      <td>EU</td>\n",
              "    </tr>\n",
              "    <tr>\n",
              "      <th>4</th>\n",
              "      <td>Angola</td>\n",
              "      <td>217</td>\n",
              "      <td>57</td>\n",
              "      <td>45</td>\n",
              "      <td>5.9</td>\n",
              "      <td>AF</td>\n",
              "    </tr>\n",
              "  </tbody>\n",
              "</table>\n",
              "</div>"
            ],
            "text/plain": [
              "       country  beer_servings  ...  total_litres_of_pure_alcohol  continent\n",
              "0  Afghanistan              0  ...                           0.0         AS\n",
              "1      Albania             89  ...                           4.9         EU\n",
              "2      Algeria             25  ...                           0.7         AF\n",
              "3      Andorra            245  ...                          12.4         EU\n",
              "4       Angola            217  ...                           5.9         AF\n",
              "\n",
              "[5 rows x 6 columns]"
            ]
          },
          "metadata": {
            "tags": []
          },
          "execution_count": 3
        }
      ]
    },
    {
      "cell_type": "markdown",
      "metadata": {
        "id": "fpM93HqOgCWW"
      },
      "source": [
        "Setting the X and Y Variables"
      ]
    },
    {
      "cell_type": "code",
      "metadata": {
        "id": "kUNRDXwygCWW"
      },
      "source": [
        "X=df[['beer_servings','spirit_servings','wine_servings']]\n",
        "Y=df['total_litres_of_pure_alcohol']"
      ],
      "execution_count": null,
      "outputs": []
    },
    {
      "cell_type": "code",
      "metadata": {
        "id": "scSc3_7lgCWX",
        "outputId": "4cdbb8b2-2531-49ec-a785-b0af6c1ca042",
        "colab": {
          "base_uri": "https://localhost:8080/",
          "height": 34
        }
      },
      "source": [
        "X.shape\n",
        "Y.shape"
      ],
      "execution_count": null,
      "outputs": [
        {
          "output_type": "execute_result",
          "data": {
            "text/plain": [
              "(193,)"
            ]
          },
          "metadata": {
            "tags": []
          },
          "execution_count": 5
        }
      ]
    },
    {
      "cell_type": "markdown",
      "metadata": {
        "id": "2uwCqr4GgCWY"
      },
      "source": [
        "Standarizing X and Y"
      ]
    },
    {
      "cell_type": "code",
      "metadata": {
        "id": "CDrx6riLgCWY"
      },
      "source": [
        "Y=np.array((Y-Y.mean())/Y.std())\n",
        "X=X.apply(lambda rec:(rec-rec.mean())/rec.std(),axis=0)"
      ],
      "execution_count": null,
      "outputs": []
    },
    {
      "cell_type": "markdown",
      "metadata": {
        "id": "vvEaw1XGgCWZ"
      },
      "source": [
        "Implementing Gradient Descent Algorithm\n",
        "\n",
        "\n",
        "1.   Randomly initialize the bias and the weight theta\n",
        "2.   Calculate predicted value of y that is Y given the bias and the weight\n",
        "3.   Calculate the cost function from predicted and actual values of Y\n",
        "4.   Calculate gradient and the weights\n",
        "\n"
      ]
    },
    {
      "cell_type": "markdown",
      "metadata": {
        "id": "_fDxbWqEgCWZ"
      },
      "source": [
        "Random Initialization of bias and weights"
      ]
    },
    {
      "cell_type": "code",
      "metadata": {
        "id": "kkXnEFw9gCWZ"
      },
      "source": [
        "import random\n",
        "def initialize(dim):\n",
        "  #np.random.seed(seed=42)\n",
        "  #random.seed(42)\n",
        "  b=random.random()\n",
        "  theta=np.random.rand(dim)\n",
        "  return b,theta"
      ],
      "execution_count": null,
      "outputs": []
    },
    {
      "cell_type": "code",
      "metadata": {
        "id": "NQZ6JZ4wgCWa",
        "outputId": "00cca504-ee3a-41a5-b14c-0d9550f2d01f",
        "colab": {
          "base_uri": "https://localhost:8080/",
          "height": 34
        }
      },
      "source": [
        "b,theta=initialize(3)\n",
        "print(\"Bias: \",b,\"Weights: \",theta)"
      ],
      "execution_count": null,
      "outputs": [
        {
          "output_type": "stream",
          "text": [
            "Bias:  0.4030041041134773 Weights:  [0.16858287 0.3208479  0.97830144]\n"
          ],
          "name": "stdout"
        }
      ]
    },
    {
      "cell_type": "markdown",
      "metadata": {
        "id": "LXRCAsULgCWc"
      },
      "source": [
        "Predict Y Values from bias and Weights"
      ]
    },
    {
      "cell_type": "code",
      "metadata": {
        "id": "5FhcdiAUgCWd"
      },
      "source": [
        "def predict_Y(b,theta,X):\n",
        "  return b + np.dot(X,theta)"
      ],
      "execution_count": null,
      "outputs": []
    },
    {
      "cell_type": "code",
      "metadata": {
        "id": "qx-rP-jUgCWf"
      },
      "source": [
        "b,theta=initialize(3)\n",
        "Y_hat=predict_Y(b,theta,X)"
      ],
      "execution_count": null,
      "outputs": []
    },
    {
      "cell_type": "code",
      "metadata": {
        "id": "Su0ipPC3gCWh",
        "outputId": "ed920563-b4c0-4273-af31-3a970fb73339",
        "colab": {
          "base_uri": "https://localhost:8080/",
          "height": 51
        }
      },
      "source": [
        "Y_hat[0:10]"
      ],
      "execution_count": null,
      "outputs": [
        {
          "output_type": "execute_result",
          "data": {
            "text/plain": [
              "array([-1.19377889,  0.34319   , -0.99295439,  2.5351408 ,  0.49016563,\n",
              "        0.33727746,  1.10529248,  0.05578795,  1.68740978,  1.68581738])"
            ]
          },
          "metadata": {
            "tags": []
          },
          "execution_count": 11
        }
      ]
    },
    {
      "cell_type": "markdown",
      "metadata": {
        "id": "Y0psVKdHgCWi"
      },
      "source": [
        "Calculate the cost function- MSE"
      ]
    },
    {
      "cell_type": "code",
      "metadata": {
        "id": "3iYMTaNWgCWi"
      },
      "source": [
        "import math\n",
        "def get_cost(Y,Y_hat):\n",
        "  Y_resd=Y-Y_hat\n",
        "  return np.sum(np.dot(Y_resd.T,Y_resd))/len(Y-Y_resd)"
      ],
      "execution_count": null,
      "outputs": []
    },
    {
      "cell_type": "code",
      "metadata": {
        "id": "006KzOYjgCWj",
        "outputId": "588f21f7-3348-41ba-a831-a81b72ca4a9c",
        "colab": {
          "base_uri": "https://localhost:8080/",
          "height": 34
        }
      },
      "source": [
        "b,theta=initialize(3)\n",
        "Y_hat=predict_Y(b,theta,X)\n",
        "get_cost(Y,Y_hat)"
      ],
      "execution_count": null,
      "outputs": [
        {
          "output_type": "execute_result",
          "data": {
            "text/plain": [
              "0.46549748702370686"
            ]
          },
          "metadata": {
            "tags": []
          },
          "execution_count": 13
        }
      ]
    },
    {
      "cell_type": "markdown",
      "metadata": {
        "id": "QULw33_rgCWk"
      },
      "source": [
        "Update bias and weights\n",
        "\n",
        "The parameters passed to the function are\n",
        "\n",
        "\n",
        "1.   x,y : the input and output variable\n",
        "2.   y_hat: predicted value with current bias and weights\n",
        "3.   b_0,theta_0: current bias and weights\n",
        "4.   Learning rate: learning rate to adjust the update step\n",
        "\n"
      ]
    },
    {
      "cell_type": "code",
      "metadata": {
        "id": "XkmWFh_sgCWk"
      },
      "source": [
        "def update_theta(x,y,y_hat,b_0,theta_o,learning_rate):\n",
        "  db=(np.sum(y_hat-y)*2)/len(y)\n",
        "  dw=(np.dot((y_hat-y),x)*2)/len(y)\n",
        "  b_1=b_0-learning_rate*db\n",
        "  theta_1=theta_o-learning_rate*dw\n",
        "  return b_1,theta_1"
      ],
      "execution_count": null,
      "outputs": []
    },
    {
      "cell_type": "code",
      "metadata": {
        "id": "nDXAVwOFgCWl",
        "outputId": "91950bc4-858b-4de5-85eb-6011a2b18a51",
        "colab": {
          "base_uri": "https://localhost:8080/",
          "height": 51
        }
      },
      "source": [
        "b,theta=initialize(3)\n",
        "print(\"After initialization -Bias: \",b,\"theta: \",theta)\n",
        "Y_hat=predict_Y(b,theta,X)\n",
        "b,theta=update_theta(X,Y,Y_hat,b,theta,0.01)\n",
        "print(\"After first update -Bias: \",b,\"theta: \",theta)\n",
        "#get_cost(Y,Y_hat)"
      ],
      "execution_count": null,
      "outputs": [
        {
          "output_type": "stream",
          "text": [
            "After initialization -Bias:  0.17166426791792277 theta:  [0.49246107 0.83895572 0.23993239]\n",
            "After first update -Bias:  0.1682309825595643 theta:  [0.48911775 0.82986953 0.24002448]\n"
          ],
          "name": "stdout"
        }
      ]
    },
    {
      "cell_type": "markdown",
      "metadata": {
        "id": "EcDnuu6qgCWm"
      },
      "source": [
        "Finding the optimal Bias and Weights"
      ]
    },
    {
      "cell_type": "code",
      "metadata": {
        "id": "6Rm5Y3jVgCWm"
      },
      "source": [
        "def run_gradient_descent(X,\n",
        "                         Y,\n",
        "                         alpha=0.01,\n",
        "                         num_iterations=100):\n",
        "  b,theta=initialize(X.shape[1])\n",
        "  iter_num=0\n",
        "  gd_iterations_df=pd.DataFrame(columns=['iteration','cost'])\n",
        "  result_idx=0\n",
        "\n",
        "  for each_iter in range(num_iterations):\n",
        "    Y_hat=predict_Y(b,theta,X)\n",
        "    this_cost=get_cost(Y,Y_hat)\n",
        "    prev_b=b\n",
        "    prev_theta=theta\n",
        "    b,theta=update_theta(X,Y,Y_hat,prev_b,prev_theta,alpha)\n",
        "\n",
        "    if(iter_num%10==0):\n",
        "      gd_iterations_df.loc[result_idx]=[iter_num,this_cost]\n",
        "      result_idx=result_idx+1\n",
        "    iter_num +=1\n",
        "  print(\"Final Estimate of b and theta : \",b,theta)\n",
        "\n",
        "  return gd_iterations_df,b,theta\n",
        "\n"
      ],
      "execution_count": null,
      "outputs": []
    },
    {
      "cell_type": "code",
      "metadata": {
        "id": "-rguRJoLgCWn",
        "outputId": "1dd5f919-a796-4b1f-a97f-d9adc0e768ed",
        "colab": {
          "base_uri": "https://localhost:8080/",
          "height": 34
        }
      },
      "source": [
        "gd_iterations_df,b,theta=run_gradient_descent(X,Y,alpha=0.001,num_iterations=200)"
      ],
      "execution_count": null,
      "outputs": [
        {
          "output_type": "stream",
          "text": [
            "Final Estimate of b and theta :  0.5886403942120809 [0.46804745 0.12728364 0.66803731]\n"
          ],
          "name": "stdout"
        }
      ]
    },
    {
      "cell_type": "code",
      "metadata": {
        "id": "-QJL1w_NgCWo",
        "outputId": "98b37176-f478-46ee-bf0a-53b63830599b",
        "colab": {
          "base_uri": "https://localhost:8080/",
          "height": 359
        }
      },
      "source": [
        "gd_iterations_df[0:10]"
      ],
      "execution_count": null,
      "outputs": [
        {
          "output_type": "execute_result",
          "data": {
            "text/html": [
              "<div>\n",
              "<style scoped>\n",
              "    .dataframe tbody tr th:only-of-type {\n",
              "        vertical-align: middle;\n",
              "    }\n",
              "\n",
              "    .dataframe tbody tr th {\n",
              "        vertical-align: top;\n",
              "    }\n",
              "\n",
              "    .dataframe thead th {\n",
              "        text-align: right;\n",
              "    }\n",
              "</style>\n",
              "<table border=\"1\" class=\"dataframe\">\n",
              "  <thead>\n",
              "    <tr style=\"text-align: right;\">\n",
              "      <th></th>\n",
              "      <th>iteration</th>\n",
              "      <th>cost</th>\n",
              "    </tr>\n",
              "  </thead>\n",
              "  <tbody>\n",
              "    <tr>\n",
              "      <th>0</th>\n",
              "      <td>0.0</td>\n",
              "      <td>1.154343</td>\n",
              "    </tr>\n",
              "    <tr>\n",
              "      <th>1</th>\n",
              "      <td>10.0</td>\n",
              "      <td>1.115340</td>\n",
              "    </tr>\n",
              "    <tr>\n",
              "      <th>2</th>\n",
              "      <td>20.0</td>\n",
              "      <td>1.077844</td>\n",
              "    </tr>\n",
              "    <tr>\n",
              "      <th>3</th>\n",
              "      <td>30.0</td>\n",
              "      <td>1.041798</td>\n",
              "    </tr>\n",
              "    <tr>\n",
              "      <th>4</th>\n",
              "      <td>40.0</td>\n",
              "      <td>1.007142</td>\n",
              "    </tr>\n",
              "    <tr>\n",
              "      <th>5</th>\n",
              "      <td>50.0</td>\n",
              "      <td>0.973821</td>\n",
              "    </tr>\n",
              "    <tr>\n",
              "      <th>6</th>\n",
              "      <td>60.0</td>\n",
              "      <td>0.941784</td>\n",
              "    </tr>\n",
              "    <tr>\n",
              "      <th>7</th>\n",
              "      <td>70.0</td>\n",
              "      <td>0.910980</td>\n",
              "    </tr>\n",
              "    <tr>\n",
              "      <th>8</th>\n",
              "      <td>80.0</td>\n",
              "      <td>0.881359</td>\n",
              "    </tr>\n",
              "    <tr>\n",
              "      <th>9</th>\n",
              "      <td>90.0</td>\n",
              "      <td>0.852876</td>\n",
              "    </tr>\n",
              "  </tbody>\n",
              "</table>\n",
              "</div>"
            ],
            "text/plain": [
              "   iteration      cost\n",
              "0        0.0  1.154343\n",
              "1       10.0  1.115340\n",
              "2       20.0  1.077844\n",
              "3       30.0  1.041798\n",
              "4       40.0  1.007142\n",
              "5       50.0  0.973821\n",
              "6       60.0  0.941784\n",
              "7       70.0  0.910980\n",
              "8       80.0  0.881359\n",
              "9       90.0  0.852876"
            ]
          },
          "metadata": {
            "tags": []
          },
          "execution_count": 18
        }
      ]
    },
    {
      "cell_type": "markdown",
      "metadata": {
        "id": "0OW-_pRtgCWp"
      },
      "source": [
        "Plotting the cost function against the iterations"
      ]
    },
    {
      "cell_type": "code",
      "metadata": {
        "id": "9lu5URzEgCWp",
        "outputId": "3c676a84-4340-4462-8417-55cb3f499f8a",
        "colab": {
          "base_uri": "https://localhost:8080/",
          "height": 296
        }
      },
      "source": [
        "import matplotlib.pyplot as plt\n",
        "import seaborn as sn\n",
        "%matplotlib inline\n",
        "plt.plot(gd_iterations_df['iteration'],gd_iterations_df['cost'])\n",
        "plt.xlabel(\"Number of iterations\")\n",
        "plt.ylabel(\"Cost or MSE\")"
      ],
      "execution_count": null,
      "outputs": [
        {
          "output_type": "execute_result",
          "data": {
            "text/plain": [
              "Text(0, 0.5, 'Cost or MSE')"
            ]
          },
          "metadata": {
            "tags": []
          },
          "execution_count": 19
        },
        {
          "output_type": "display_data",
          "data": {
            "image/png": "[encoded data removed]",
            "text/plain": [
              "<Figure size 432x288 with 1 Axes>"
            ]
          },
          "metadata": {
            "tags": [],
            "needs_background": "light"
          }
        }
      ]
    },
    {
      "cell_type": "code",
      "metadata": {
        "id": "PJnruCQCgCWq",
        "outputId": "d1e148c8-a101-44e8-8e9e-dfb1ac9df4a2",
        "colab": {
          "base_uri": "https://localhost:8080/",
          "height": 34
        }
      },
      "source": [
        "alpha_df_1,b,theta=run_gradient_descent(X,Y,alpha=0.01,num_iterations=2000)\n"
      ],
      "execution_count": null,
      "outputs": [
        {
          "output_type": "stream",
          "text": [
            "Final Estimate of b and theta :  -8.273988547396094e-17 [0.49060884 0.36401564 0.33805408]\n"
          ],
          "name": "stdout"
        }
      ]
    },
    {
      "cell_type": "code",
      "metadata": {
        "id": "h749cQA_gCWr",
        "outputId": "d05c4beb-a747-407e-f93f-9a01fb8a982c",
        "colab": {
          "base_uri": "https://localhost:8080/",
          "height": 34
        }
      },
      "source": [
        "alpha_df_2,b,theta=run_gradient_descent(X,Y,alpha=0.001,num_iterations=2000)"
      ],
      "execution_count": null,
      "outputs": [
        {
          "output_type": "stream",
          "text": [
            "Final Estimate of b and theta :  0.006133819220940679 [0.5045898  0.35759548 0.32809633]\n"
          ],
          "name": "stdout"
        }
      ]
    },
    {
      "cell_type": "code",
      "metadata": {
        "id": "TPhHOQSJgCWs",
        "outputId": "3e39c021-d5db-4dca-e10f-77da7e30fe21",
        "colab": {
          "base_uri": "https://localhost:8080/",
          "height": 312
        }
      },
      "source": [
        "plt.plot(alpha_df_1['iteration'],alpha_df_1['cost'],label=\"alpha=0.01\")\n",
        "plt.plot(alpha_df_2['iteration'],alpha_df_2['cost'],label=\"alpha=0.001\")\n",
        "plt.legend()\n",
        "plt.ylabel('cost')\n",
        "plt.xlabel('Number of iterations')\n",
        "plt.title('Cost Vs. Iterations for different alpha values')"
      ],
      "execution_count": null,
      "outputs": [
        {
          "output_type": "execute_result",
          "data": {
            "text/plain": [
              "Text(0.5, 1.0, 'Cost Vs. Iterations for different alpha values')"
            ]
          },
          "metadata": {
            "tags": []
          },
          "execution_count": 33
        },
        {
          "output_type": "display_data",
          "data": {
            "image/png": "[encoded data removed]",
            "text/plain": [
              "<Figure size 432x288 with 1 Axes>"
            ]
          },
          "metadata": {
            "tags": [],
            "needs_background": "light"
          }
        }
      ]
    },
    {
      "cell_type": "markdown",
      "metadata": {
        "id": "_r1ZX8DQgCWt"
      },
      "source": [
        "Alpha will be different for every dataset. For this dataset, after numerous iterations we found that the optimum value of alpha is 0.01"
      ]
    }
  ]
}
